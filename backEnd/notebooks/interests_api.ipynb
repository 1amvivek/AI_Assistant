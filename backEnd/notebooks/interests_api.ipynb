{
 "cells": [
  {
   "cell_type": "code",
   "execution_count": 59,
   "metadata": {},
   "outputs": [],
   "source": [
    "import pickle\n",
    "import numpy as np\n",
    "import re\n",
    "import pandas as pd\n",
    "from nltk.corpus import stopwords\n",
    "import numpy as np\n",
    "import sklearn\n",
    "import nltk\n",
    "from sklearn.naive_bayes import MultinomialNB\n",
    "import warnings\n",
    "warnings.filterwarnings('ignore')\n",
    "from lime import lime_text\n",
    "from sklearn.pipeline import make_pipeline\n",
    "from lime.lime_text import LimeTextExplainer\n",
    "from nltk.stem import PorterStemmer, WordNetLemmatizer\n",
    "lemmetizer = WordNetLemmatizer()\n",
    "stemmer = PorterStemmer()"
   ]
  },
  {
   "cell_type": "code",
   "execution_count": 60,
   "metadata": {},
   "outputs": [
    {
     "data": {
      "text/plain": [
       "(31,)"
      ]
     },
     "execution_count": 60,
     "metadata": {},
     "output_type": "execute_result"
    }
   ],
   "source": [
    "class_names = np.asarray([u'ARTS', u'ARTS & CULTURE', u'BLACK VOICES', u'BUSINESS', u'COLLEGE',\n",
    " u'COMEDY', u'CRIME', u'EDUCATION', u'ENTERTAINMENT', u'FIFTY', u'GOOD NEWS',\n",
    " u'GREEN', u'HEALTHY LIVING', u'IMPACT', u'LATINO VOICES', u'MEDIA', u'PARENTS',\n",
    " u'POLITICS', u'QUEER VOICES', u'RELIGION', u'SCIENCE', u'SPORTS', u'STYLE',\n",
    " u'TASTE', u'TECH', u'THE WORLDPOST', u'TRAVEL', u'WEIRD NEWS', u'WOMEN', u'WORLD NEWS', u'WORLDPOST'])\n",
    "class_names.shape"
   ]
  },
  {
   "cell_type": "code",
   "execution_count": 61,
   "metadata": {},
   "outputs": [],
   "source": [
    "model_filename = 'interests_classifier.sav'\n",
    "vect_filename = 'vectorize_interests_classifier.sav'\n",
    "\n",
    "def load_models(model_filename, vect_filename):\n",
    "    loaded_model = pickle.load(open(model_filename, 'rb'))\n",
    "    vectorize = pickle.load(open(vect_filename, 'rb'))\n",
    "    return loaded_model, vectorize\n",
    "\n",
    "loaded_model, vectorize = load_models(model_filename, vect_filename)"
   ]
  },
  {
   "cell_type": "code",
   "execution_count": 62,
   "metadata": {},
   "outputs": [],
   "source": [
    "def get_words(headlines_list):\n",
    "    headlines = headlines_list[0]   \n",
    "    author_names = [x for x in headlines_list[1].lower().replace('and',',').replace(' ', '').split(',') if x != '']\n",
    "    headlines_only_letters = re.sub('[^a-zA-Z]', ' ', headlines)\n",
    "    words = nltk.word_tokenize(headlines_only_letters.lower())\n",
    "    stops = set(stopwords.words('english'))\n",
    "    meaningful_words = [lemmetizer.lemmatize(w) for w in words if w not in stops]\n",
    "    return ' '.join(meaningful_words + author_names)"
   ]
  },
  {
   "cell_type": "code",
   "execution_count": 82,
   "metadata": {},
   "outputs": [],
   "source": [
    "input_val = np.asarray([u\"Cricket is a beatiful sport. Baseball, hockey. Dhoni is the best!!!\",\n",
    "       u'some_author'])\n",
    "\n",
    "def clean_input_and_vectorize(input_val):\n",
    "    cleanHeadlines_list = []\n",
    "    cleanHeadline = get_words(input_val) #Processing the data and getting words with no special characters, numbers or html tags\n",
    "    cleanHeadlines_list.append( cleanHeadline )\n",
    "    tfidwords_input = vectorize.transform(cleanHeadlines_list)\n",
    "    return tfidwords_input, cleanHeadlines_list\n",
    "\n",
    "tfidwords_input, cleanHeadlines_list = clean_input_and_vectorize(input_val)"
   ]
  },
  {
   "cell_type": "code",
   "execution_count": 83,
   "metadata": {},
   "outputs": [],
   "source": [
    "def predict(tfidwords_input):\n",
    "    return loaded_model.predict(tfidwords_input)[0]\n",
    "\n",
    "pred_category = predict(tfidwords_input)"
   ]
  },
  {
   "cell_type": "code",
   "execution_count": 84,
   "metadata": {
    "scrolled": false
   },
   "outputs": [
    {
     "name": "stdout",
     "output_type": "stream",
     "text": [
      "Predicted class = SPORTS\n",
      "{u'BUSINESS': [(u'hockey', 0.2976336465958332), (u'baseball', 0.2688058903031485), (u'cricket', -0.2655826509364169), (u'sport', 0.20616728084130584), (u'best', -0.02856751391295393), (u'beatiful', -0.004072770293723184), (u'some_author', -0.0035699197318947037), (u'dhoni', -0.002496119789379354)], u'ENTERTAINMENT': [(u'hockey', 0.2976336465958332), (u'baseball', 0.2688058903031485), (u'cricket', -0.2655826509364169), (u'sport', 0.20616728084130584), (u'best', -0.02856751391295393), (u'beatiful', -0.004072770293723184), (u'some_author', -0.0035699197318947037), (u'dhoni', -0.002496119789379354)], u'CRIME': [(u'hockey', 0.2976336465958332), (u'baseball', 0.2688058903031485), (u'cricket', -0.2655826509364169), (u'sport', 0.20616728084130584), (u'best', -0.02856751391295393), (u'beatiful', -0.004072770293723184), (u'some_author', -0.0035699197318947037), (u'dhoni', -0.002496119789379354)], u'GREEN': [(u'hockey', 0.2976336465958332), (u'baseball', 0.2688058903031485), (u'cricket', -0.2655826509364169), (u'sport', 0.20616728084130584), (u'best', -0.02856751391295393), (u'beatiful', -0.004072770293723184), (u'some_author', -0.0035699197318947037), (u'dhoni', -0.002496119789379354)], u'LATINO VOICES': [(u'hockey', 0.2976336465958332), (u'baseball', 0.2688058903031485), (u'cricket', -0.2655826509364169), (u'sport', 0.20616728084130584), (u'best', -0.02856751391295393), (u'beatiful', -0.004072770293723184), (u'some_author', -0.0035699197318947037), (u'dhoni', -0.002496119789379354)], u'POLITICS': [(u'hockey', 0.2976336465958332), (u'baseball', 0.2688058903031485), (u'cricket', -0.2655826509364169), (u'sport', 0.20616728084130584), (u'best', -0.02856751391295393), (u'beatiful', -0.004072770293723184), (u'some_author', -0.0035699197318947037), (u'dhoni', -0.002496119789379354)], u'IMPACT': [(u'hockey', 0.2976336465958332), (u'baseball', 0.2688058903031485), (u'cricket', -0.2655826509364169), (u'sport', 0.20616728084130584), (u'best', -0.02856751391295393), (u'beatiful', -0.004072770293723184), (u'some_author', -0.0035699197318947037), (u'dhoni', -0.002496119789379354)], u'ARTS': [(u'hockey', 0.2976336465958332), (u'baseball', 0.2688058903031485), (u'cricket', -0.2655826509364169), (u'sport', 0.20616728084130584), (u'best', -0.02856751391295393), (u'beatiful', -0.004072770293723184), (u'some_author', -0.0035699197318947037), (u'dhoni', -0.002496119789379354)], u'FIFTY': [(u'hockey', 0.2976336465958332), (u'baseball', 0.2688058903031485), (u'cricket', -0.2655826509364169), (u'sport', 0.20616728084130584), (u'best', -0.02856751391295393), (u'beatiful', -0.004072770293723184), (u'some_author', -0.0035699197318947037), (u'dhoni', -0.002496119789379354)], u'RELIGION': [(u'hockey', 0.2976336465958332), (u'baseball', 0.2688058903031485), (u'cricket', -0.2655826509364169), (u'sport', 0.20616728084130584), (u'best', -0.02856751391295393), (u'beatiful', -0.004072770293723184), (u'some_author', -0.0035699197318947037), (u'dhoni', -0.002496119789379354)], u'TECH': [(u'hockey', 0.2976336465958332), (u'baseball', 0.2688058903031485), (u'cricket', -0.2655826509364169), (u'sport', 0.20616728084130584), (u'best', -0.02856751391295393), (u'beatiful', -0.004072770293723184), (u'some_author', -0.0035699197318947037), (u'dhoni', -0.002496119789379354)], u'SCIENCE': [(u'hockey', 0.2976336465958332), (u'baseball', 0.2688058903031485), (u'cricket', -0.2655826509364169), (u'sport', 0.20616728084130584), (u'best', -0.02856751391295393), (u'beatiful', -0.004072770293723184), (u'some_author', -0.0035699197318947037), (u'dhoni', -0.002496119789379354)], u'COMEDY': [(u'hockey', 0.2976336465958332), (u'baseball', 0.2688058903031485), (u'cricket', -0.2655826509364169), (u'sport', 0.20616728084130584), (u'best', -0.02856751391295393), (u'beatiful', -0.004072770293723184), (u'some_author', -0.0035699197318947037), (u'dhoni', -0.002496119789379354)], u'WOMEN': [(u'hockey', 0.2976336465958332), (u'baseball', 0.2688058903031485), (u'cricket', -0.2655826509364169), (u'sport', 0.20616728084130584), (u'best', -0.02856751391295393), (u'beatiful', -0.004072770293723184), (u'some_author', -0.0035699197318947037), (u'dhoni', -0.002496119789379354)], u'STYLE': [(u'hockey', 0.2976336465958332), (u'baseball', 0.2688058903031485), (u'cricket', -0.2655826509364169), (u'sport', 0.20616728084130584), (u'best', -0.02856751391295393), (u'beatiful', -0.004072770293723184), (u'some_author', -0.0035699197318947037), (u'dhoni', -0.002496119789379354)], u'GOOD NEWS': [(u'hockey', 0.2976336465958332), (u'baseball', 0.2688058903031485), (u'cricket', -0.2655826509364169), (u'sport', 0.20616728084130584), (u'best', -0.02856751391295393), (u'beatiful', -0.004072770293723184), (u'some_author', -0.0035699197318947037), (u'dhoni', -0.002496119789379354)], u'MEDIA': [(u'hockey', 0.2976336465958332), (u'baseball', 0.2688058903031485), (u'cricket', -0.2655826509364169), (u'sport', 0.20616728084130584), (u'best', -0.02856751391295393), (u'beatiful', -0.004072770293723184), (u'some_author', -0.0035699197318947037), (u'dhoni', -0.002496119789379354)], u'WEIRD NEWS': [(u'hockey', 0.2976336465958332), (u'baseball', 0.2688058903031485), (u'cricket', -0.2655826509364169), (u'sport', 0.20616728084130584), (u'best', -0.02856751391295393), (u'beatiful', -0.004072770293723184), (u'some_author', -0.0035699197318947037), (u'dhoni', -0.002496119789379354)], u'WORLD NEWS': [(u'hockey', 0.2976336465958332), (u'baseball', 0.2688058903031485), (u'cricket', -0.2655826509364169), (u'sport', 0.20616728084130584), (u'best', -0.02856751391295393), (u'beatiful', -0.004072770293723184), (u'some_author', -0.0035699197318947037), (u'dhoni', -0.002496119789379354)], u'ARTS & CULTURE': [(u'hockey', 0.2976336465958332), (u'baseball', 0.2688058903031485), (u'cricket', -0.2655826509364169), (u'sport', 0.20616728084130584), (u'best', -0.02856751391295393), (u'beatiful', -0.004072770293723184), (u'some_author', -0.0035699197318947037), (u'dhoni', -0.002496119789379354)], u'TRAVEL': [(u'hockey', 0.2976336465958332), (u'baseball', 0.2688058903031485), (u'cricket', -0.2655826509364169), (u'sport', 0.20616728084130584), (u'best', -0.02856751391295393), (u'beatiful', -0.004072770293723184), (u'some_author', -0.0035699197318947037), (u'dhoni', -0.002496119789379354)], u'QUEER VOICES': [(u'hockey', 0.2976336465958332), (u'baseball', 0.2688058903031485), (u'cricket', -0.2655826509364169), (u'sport', 0.20616728084130584), (u'best', -0.02856751391295393), (u'beatiful', -0.004072770293723184), (u'some_author', -0.0035699197318947037), (u'dhoni', -0.002496119789379354)], u'THE WORLDPOST': [(u'hockey', 0.2976336465958332), (u'baseball', 0.2688058903031485), (u'cricket', -0.2655826509364169), (u'sport', 0.20616728084130584), (u'best', -0.02856751391295393), (u'beatiful', -0.004072770293723184), (u'some_author', -0.0035699197318947037), (u'dhoni', -0.002496119789379354)], u'SPORTS': [(u'hockey', 0.2976336465958332), (u'baseball', 0.2688058903031485), (u'cricket', -0.2655826509364169), (u'sport', 0.20616728084130584), (u'best', -0.02856751391295393), (u'beatiful', -0.004072770293723184), (u'some_author', -0.0035699197318947037), (u'dhoni', -0.002496119789379354)], u'TASTE': [(u'hockey', 0.2976336465958332), (u'baseball', 0.2688058903031485), (u'cricket', -0.2655826509364169), (u'sport', 0.20616728084130584), (u'best', -0.02856751391295393), (u'beatiful', -0.004072770293723184), (u'some_author', -0.0035699197318947037), (u'dhoni', -0.002496119789379354)], u'BLACK VOICES': [(u'hockey', 0.2976336465958332), (u'baseball', 0.2688058903031485), (u'cricket', -0.2655826509364169), (u'sport', 0.20616728084130584), (u'best', -0.02856751391295393), (u'beatiful', -0.004072770293723184), (u'some_author', -0.0035699197318947037), (u'dhoni', -0.002496119789379354)], u'WORLDPOST': [(u'hockey', 0.2976336465958332), (u'baseball', 0.2688058903031485), (u'cricket', -0.2655826509364169), (u'sport', 0.20616728084130584), (u'best', -0.02856751391295393), (u'beatiful', -0.004072770293723184), (u'some_author', -0.0035699197318947037), (u'dhoni', -0.002496119789379354)], u'COLLEGE': [(u'hockey', 0.2976336465958332), (u'baseball', 0.2688058903031485), (u'cricket', -0.2655826509364169), (u'sport', 0.20616728084130584), (u'best', -0.02856751391295393), (u'beatiful', -0.004072770293723184), (u'some_author', -0.0035699197318947037), (u'dhoni', -0.002496119789379354)], u'PARENTS': [(u'hockey', 0.2976336465958332), (u'baseball', 0.2688058903031485), (u'cricket', -0.2655826509364169), (u'sport', 0.20616728084130584), (u'best', -0.02856751391295393), (u'beatiful', -0.004072770293723184), (u'some_author', -0.0035699197318947037), (u'dhoni', -0.002496119789379354)], u'EDUCATION': [(u'hockey', 0.2976336465958332), (u'baseball', 0.2688058903031485), (u'cricket', -0.2655826509364169), (u'sport', 0.20616728084130584), (u'best', -0.02856751391295393), (u'beatiful', -0.004072770293723184), (u'some_author', -0.0035699197318947037), (u'dhoni', -0.002496119789379354)], u'HEALTHY LIVING': [(u'hockey', 0.2976336465958332), (u'baseball', 0.2688058903031485), (u'cricket', -0.2655826509364169), (u'sport', 0.20616728084130584), (u'best', -0.02856751391295393), (u'beatiful', -0.004072770293723184), (u'some_author', -0.0035699197318947037), (u'dhoni', -0.002496119789379354)]}\n"
     ]
    }
   ],
   "source": [
    "def get_explainer(class_names, loaded_model, vectorize, cleanHeadlines_list, tfidwords_input):\n",
    "    explainer = LimeTextExplainer(class_names=class_names)\n",
    "    c = make_pipeline(vectorize, loaded_model)\n",
    "    exp = explainer.explain_instance(cleanHeadlines_list[0], c.predict_proba, labels=range(class_names.shape[0]))\n",
    "    return exp\n",
    "\n",
    "def explain_all(exp, class_names):\n",
    "    all_explainers = {}\n",
    "    print 'Predicted class =', loaded_model.predict(tfidwords_input_test).reshape(1,-1)[0,0]\n",
    "    for idx in range(class_names.shape[0]):\n",
    "        try:\n",
    "            all_explainers[class_names[idx]] = (exp.as_list(label=i))\n",
    "        except:\n",
    "            print(\"Error for {}\".format(i))\n",
    "    return all_explainers\n",
    "\n",
    "exp = get_explainer(class_names, loaded_model, vectorize, cleanHeadlines_list, tfidwords_input)\n",
    "all_explainers = explain_all(exp, class_names)\n",
    "print(all_explainers)"
   ]
  },
  {
   "cell_type": "code",
   "execution_count": 86,
   "metadata": {},
   "outputs": [
    {
     "name": "stdout",
     "output_type": "stream",
     "text": [
      "[(u'hockey', 0.2976336465958332), (u'baseball', 0.2688058903031485), (u'cricket', -0.2655826509364169), (u'sport', 0.20616728084130584), (u'best', -0.02856751391295393), (u'beatiful', -0.004072770293723184), (u'some_author', -0.0035699197318947037), (u'dhoni', -0.002496119789379354)]\n"
     ]
    }
   ],
   "source": [
    "def get_class_name_index(class_names, class_name):\n",
    "    return list(class_names).index(class_name)\n",
    "\n",
    "idx = get_class_name_index(class_names, pred_category)\n",
    "\n",
    "def explain_class(exp, idx):\n",
    "    try:\n",
    "        return exp.as_list(label=idx)\n",
    "    except:\n",
    "        print(\"Error for {}\".format(i))\n",
    "        return None\n",
    "    \n",
    "print(explain_class(exp, idx))"
   ]
  },
  {
   "cell_type": "code",
   "execution_count": null,
   "metadata": {},
   "outputs": [],
   "source": []
  }
 ],
 "metadata": {
  "kernelspec": {
   "display_name": "Python 2",
   "language": "python",
   "name": "python2"
  },
  "language_info": {
   "codemirror_mode": {
    "name": "ipython",
    "version": 2
   },
   "file_extension": ".py",
   "mimetype": "text/x-python",
   "name": "python",
   "nbconvert_exporter": "python",
   "pygments_lexer": "ipython2",
   "version": "2.7.15"
  }
 },
 "nbformat": 4,
 "nbformat_minor": 2
}

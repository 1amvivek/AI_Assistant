{
 "cells": [
  {
   "cell_type": "code",
   "execution_count": 7,
   "metadata": {},
   "outputs": [],
   "source": [
    "import random\n",
    "import matplotlib.pyplot as plt\n",
    "import matplotlib.dates as mdates\n",
    "import requests\n",
    "import json \n",
    "import numpy as np\n",
    "from datetime import datetime\n",
    "\n",
    "LOGS_URL = \"http://18.222.204.247:3000/logs\""
   ]
  },
  {
   "cell_type": "code",
   "execution_count": 10,
   "metadata": {},
   "outputs": [],
   "source": [
    "def getLogs(URL):\n",
    "    r= requests.get(LOGS_URL)\n",
    "    resp = json.loads(r.text)\n",
    "    return resp\n",
    "\n",
    "resp = getLogs(LOGS_URL)"
   ]
  },
  {
   "cell_type": "code",
   "execution_count": 11,
   "metadata": {},
   "outputs": [],
   "source": [
    "def ep_to_day(ep):\n",
    "    return datetime.fromtimestamp(ep/1000).strftime(\"%A\")\n",
    "\n",
    "def ep_to_hour(ep):\n",
    "    return datetime.fromtimestamp(ep/1000).strftime(\"%H\")"
   ]
  },
  {
   "cell_type": "code",
   "execution_count": 12,
   "metadata": {},
   "outputs": [
    {
     "data": {
      "text/plain": [
       "{'Friday': {'22': 1, '23': 1, 'total': 123},\n",
       " 'Monday': {'00': 1,\n",
       "  '01': 1,\n",
       "  '15': 1,\n",
       "  '16': 1,\n",
       "  '17': 1,\n",
       "  '18': 1,\n",
       "  '19': 1,\n",
       "  '20': 1,\n",
       "  '21': 1,\n",
       "  'total': 306},\n",
       " 'Saturday': {'00': 1,\n",
       "  '01': 1,\n",
       "  '02': 1,\n",
       "  '03': 1,\n",
       "  '12': 1,\n",
       "  '13': 1,\n",
       "  '14': 1,\n",
       "  '15': 1,\n",
       "  '16': 1,\n",
       "  '17': 1,\n",
       "  '18': 1,\n",
       "  '19': 1,\n",
       "  '20': 1,\n",
       "  'total': 1066},\n",
       " 'Sunday': {'00': 1,\n",
       "  '01': 1,\n",
       "  '02': 1,\n",
       "  '03': 1,\n",
       "  '14': 1,\n",
       "  '18': 1,\n",
       "  '19': 1,\n",
       "  '21': 1,\n",
       "  '22': 1,\n",
       "  '23': 1,\n",
       "  'total': 615},\n",
       " 'Thursday': {'17': 1, '18': 1, '19': 1, '20': 1, 'total': 123},\n",
       " 'Tuesday': {'01': 1,\n",
       "  '10': 1,\n",
       "  '11': 1,\n",
       "  '14': 1,\n",
       "  '15': 1,\n",
       "  '19': 1,\n",
       "  '20': 1,\n",
       "  '21': 1,\n",
       "  '22': 1,\n",
       "  '23': 1,\n",
       "  'total': 100}}"
      ]
     },
     "execution_count": 12,
     "metadata": {},
     "output_type": "execute_result"
    }
   ],
   "source": [
    "def getHabits(resp):\n",
    "    i=0\n",
    "    data = dict()\n",
    "\n",
    "    while i < len(resp)-1:\n",
    "        i += 1\n",
    "        day =  ep_to_day(int(resp[-i][\"time\"]))\n",
    "        hour = ep_to_hour(int(resp[-i][\"time\"]))\n",
    "        if not day in data:\n",
    "            data[day] = {}\n",
    "            data[day][\"total\"] = 0\n",
    "        else:\n",
    "            if not hour in data:\n",
    "                data[day][hour] = 1\n",
    "                data[day][\"total\"] += 1\n",
    "            else:\n",
    "                data[day][hour] += 1\n",
    "                data[day][\"total\"] += 1\n",
    "\n",
    "#     print(data)\n",
    "    return data\n",
    "getHabits(resp)"
   ]
  },
  {
   "cell_type": "code",
   "execution_count": null,
   "metadata": {},
   "outputs": [],
   "source": []
  },
  {
   "cell_type": "code",
   "execution_count": null,
   "metadata": {},
   "outputs": [],
   "source": []
  }
 ],
 "metadata": {
  "kernelspec": {
   "display_name": "Python 2",
   "language": "python",
   "name": "python2"
  },
  "language_info": {
   "codemirror_mode": {
    "name": "ipython",
    "version": 2
   },
   "file_extension": ".py",
   "mimetype": "text/x-python",
   "name": "python",
   "nbconvert_exporter": "python",
   "pygments_lexer": "ipython2",
   "version": "2.7.15"
  }
 },
 "nbformat": 4,
 "nbformat_minor": 2
}
